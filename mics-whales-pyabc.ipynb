{
 "cells": [
  {
   "cell_type": "code",
   "execution_count": 1,
   "metadata": {},
   "outputs": [
    {
     "name": "stderr",
     "output_type": "stream",
     "text": [
      "WARNING:theano.configdefaults:install mkl with `conda install mkl-service`: No module named 'mkl'\n"
     ]
    }
   ],
   "source": [
    "from IPython.core.debugger import set_trace\n",
    "import itertools\n",
    "import logging\n",
    "import matplotlib.pyplot as plt\n",
    "import numpy as np\n",
    "import scipy.stats as st\n",
    "\n",
    "import os\n",
    "import pandas as pd\n",
    "import pickle\n",
    "import pyabc\n",
    "\n",
    "import re\n",
    "from scipy import stats\n",
    "import seaborn as sns\n",
    "import tempfile\n",
    "import theano.tensor as tt\n",
    "\n",
    "# local\n",
    "from lib.prior_generation import min_age_prior"
   ]
  },
  {
   "cell_type": "code",
   "execution_count": null,
   "metadata": {},
   "outputs": [],
   "source": []
  },
  {
   "cell_type": "markdown",
   "metadata": {},
   "source": [
    "### intro"
   ]
  },
  {
   "cell_type": "code",
   "execution_count": 2,
   "metadata": {},
   "outputs": [],
   "source": [
    "def intro(age, alive, intro_year_before, proba_intro):\n",
    "    if age < 0 or (age >= 0 and intro_year_before == 0 and alive == 0):\n",
    "        return 0\n",
    "      \n",
    "    if intro_year_before == 1:\n",
    "        return 1\n",
    "\n",
    "    return np.random.binomial(n=1, p=proba_intro)    "
   ]
  },
  {
   "cell_type": "markdown",
   "metadata": {},
   "source": [
    "### age"
   ]
  },
  {
   "cell_type": "code",
   "execution_count": 3,
   "metadata": {},
   "outputs": [],
   "source": [
    "def age(age_year_before):\n",
    "    return age_year_before + 1"
   ]
  },
  {
   "cell_type": "markdown",
   "metadata": {},
   "source": [
    "### alive"
   ]
  },
  {
   "cell_type": "code",
   "execution_count": 4,
   "metadata": {},
   "outputs": [],
   "source": [
    "def alive(age, alive_last_year, proba_alive):\n",
    "    if age < 0:\n",
    "        return 0\n",
    "    \n",
    "    if alive_last_year == 0:\n",
    "        return 0\n",
    "    \n",
    "    return np.random.binomial(n=1, p=proba_alive)"
   ]
  },
  {
   "cell_type": "markdown",
   "metadata": {},
   "source": [
    "### repro_active"
   ]
  },
  {
   "cell_type": "code",
   "execution_count": 5,
   "metadata": {},
   "outputs": [],
   "source": [
    "def repro_active(age, alive):\n",
    "    if alive == 0 or age < 9:\n",
    "        return 0\n",
    "    else:\n",
    "        return 1"
   ]
  },
  {
   "cell_type": "markdown",
   "metadata": {},
   "source": [
    "### birth"
   ]
  },
  {
   "cell_type": "code",
   "execution_count": 6,
   "metadata": {},
   "outputs": [],
   "source": [
    "def birth(birth_last_year, repro_active, proba_birth):\n",
    "    if birth_last_year == 1 or repro_active != 1:\n",
    "        return 0\n",
    "    \n",
    "    return np.random.binomial(n=1, p=proba_birth)"
   ]
  },
  {
   "cell_type": "markdown",
   "metadata": {},
   "source": [
    "### detect"
   ]
  },
  {
   "cell_type": "code",
   "execution_count": 7,
   "metadata": {},
   "outputs": [],
   "source": [
    "def detect(intro, alive, proba_detect):\n",
    "    if intro == 0 or alive == 0:\n",
    "        return 0\n",
    "    \n",
    "    return np.random.binomial(n=1, p=proba_detect)"
   ]
  },
  {
   "cell_type": "markdown",
   "metadata": {},
   "source": [
    "### count"
   ]
  },
  {
   "cell_type": "code",
   "execution_count": 8,
   "metadata": {},
   "outputs": [],
   "source": [
    "def count(detect, birth):\n",
    "    if detect == 1 and birth == 1:\n",
    "        return 2\n",
    "    elif detect == 1 and birth == 0:\n",
    "        return 1\n",
    "    else:\n",
    "        return 0"
   ]
  },
  {
   "cell_type": "code",
   "execution_count": 9,
   "metadata": {},
   "outputs": [],
   "source": [
    "\n",
    "sigma = .5"
   ]
  },
  {
   "cell_type": "code",
   "execution_count": 10,
   "metadata": {},
   "outputs": [],
   "source": [
    "def model(parameters):\n",
    "    # sample from a gaussian\n",
    "    y = stats.norm(parameters.x, sigma).rvs()\n",
    "    # return the sample as dictionary\n",
    "    return {\"y\": y}"
   ]
  },
  {
   "cell_type": "code",
   "execution_count": 11,
   "metadata": {},
   "outputs": [],
   "source": [
    "# We define two models, but they are identical so far\n",
    "models = [model, model]\n",
    "\n",
    "\n",
    "# However, our models' priors are not the same.\n",
    "# Their mean differs.\n",
    "mu_x_1, mu_x_2 = 0, 1\n",
    "parameter_priors = [\n",
    "    pyabc.Distribution(x=pyabc.RV(\"norm\", mu_x_1, sigma)),\n",
    "    pyabc.Distribution(x=pyabc.RV(\"norm\", mu_x_2, sigma))\n",
    "]"
   ]
  },
  {
   "cell_type": "code",
   "execution_count": 12,
   "metadata": {},
   "outputs": [],
   "source": [
    "def distance(x, y):\n",
    "    return abs(x['y'] - y['y'])"
   ]
  },
  {
   "cell_type": "code",
   "execution_count": 13,
   "metadata": {},
   "outputs": [
    {
     "data": {
      "text/plain": [
       "[10, 9, 8, 7, 6, 5, 4, 3, 2, 1, 0]"
      ]
     },
     "execution_count": 13,
     "metadata": {},
     "output_type": "execute_result"
    }
   ],
   "source": [
    "[i for i in reversed(range(11))]"
   ]
  },
  {
   "cell_type": "code",
   "execution_count": 14,
   "metadata": {},
   "outputs": [],
   "source": [
    "\n",
    "# We plug all the ABC options together\n",
    "abc = pyabc.ABCSMC(\n",
    "    models, parameter_priors,\n",
    "    distance,\n",
    "    eps=pyabc.ListEpsilon([i for i in reversed(range(11))])\n",
    ")\n",
    "    #pyabc.PercentileDistance(measures_to_use=[\"y\"]))\n",
    "\n"
   ]
  },
  {
   "cell_type": "code",
   "execution_count": 15,
   "metadata": {},
   "outputs": [
    {
     "name": "stderr",
     "output_type": "stream",
     "text": [
      "INFO:History:Start <ABCSMC(id=6, start_time=2019-08-27 11:13:13.969210, end_time=None)>\n"
     ]
    }
   ],
   "source": [
    "# y_observed is the important piece here: our actual observation.\n",
    "y_observed = 1\n",
    "# and we define where to store the results\n",
    "db_path = (\"sqlite:///\" +\n",
    "           os.path.join(tempfile.gettempdir(), \"test.db\"))\n",
    "abc_id = abc.new(db_path, {\"y\": y_observed})\n"
   ]
  },
  {
   "cell_type": "code",
   "execution_count": 17,
   "metadata": {},
   "outputs": [
    {
     "name": "stderr",
     "output_type": "stream",
     "text": [
      "INFO:ABC:t:0 eps:10\n",
      "INFO:ABC:t:1 eps:9\n",
      "INFO:ABC:t:2 eps:8\n",
      "INFO:ABC:t:3 eps:7\n",
      "INFO:ABC:t:4 eps:6\n",
      "INFO:ABC:t:5 eps:5\n",
      "INFO:ABC:t:6 eps:4\n",
      "INFO:ABC:t:7 eps:3\n",
      "INFO:ABC:t:8 eps:2\n",
      "INFO:ABC:t:9 eps:1\n",
      "INFO:History:Done <ABCSMC(id=6, start_time=2019-08-27 11:13:13.969210, end_time=2019-08-27 11:13:42.503359)>\n"
     ]
    }
   ],
   "source": [
    "\n",
    "# We run the ABC until either criterion is met\n",
    "history = abc.run(minimum_epsilon=0.5, max_nr_populations=10)\n",
    "\n"
   ]
  },
  {
   "cell_type": "code",
   "execution_count": 18,
   "metadata": {},
   "outputs": [
    {
     "data": {
      "text/html": [
       "<div>\n",
       "<style scoped>\n",
       "    .dataframe tbody tr th:only-of-type {\n",
       "        vertical-align: middle;\n",
       "    }\n",
       "\n",
       "    .dataframe tbody tr th {\n",
       "        vertical-align: top;\n",
       "    }\n",
       "\n",
       "    .dataframe thead th {\n",
       "        text-align: right;\n",
       "    }\n",
       "</style>\n",
       "<table border=\"1\" class=\"dataframe\">\n",
       "  <thead>\n",
       "    <tr style=\"text-align: right;\">\n",
       "      <th>m</th>\n",
       "      <th>0</th>\n",
       "      <th>1</th>\n",
       "    </tr>\n",
       "    <tr>\n",
       "      <th>t</th>\n",
       "      <th></th>\n",
       "      <th></th>\n",
       "    </tr>\n",
       "  </thead>\n",
       "  <tbody>\n",
       "    <tr>\n",
       "      <th>0</th>\n",
       "      <td>0.480000</td>\n",
       "      <td>0.520000</td>\n",
       "    </tr>\n",
       "    <tr>\n",
       "      <th>1</th>\n",
       "      <td>0.428382</td>\n",
       "      <td>0.571618</td>\n",
       "    </tr>\n",
       "    <tr>\n",
       "      <th>2</th>\n",
       "      <td>0.492288</td>\n",
       "      <td>0.507712</td>\n",
       "    </tr>\n",
       "    <tr>\n",
       "      <th>3</th>\n",
       "      <td>0.446792</td>\n",
       "      <td>0.553208</td>\n",
       "    </tr>\n",
       "    <tr>\n",
       "      <th>4</th>\n",
       "      <td>0.482455</td>\n",
       "      <td>0.517545</td>\n",
       "    </tr>\n",
       "    <tr>\n",
       "      <th>5</th>\n",
       "      <td>0.604750</td>\n",
       "      <td>0.395250</td>\n",
       "    </tr>\n",
       "    <tr>\n",
       "      <th>6</th>\n",
       "      <td>0.567104</td>\n",
       "      <td>0.432896</td>\n",
       "    </tr>\n",
       "    <tr>\n",
       "      <th>7</th>\n",
       "      <td>0.614419</td>\n",
       "      <td>0.385581</td>\n",
       "    </tr>\n",
       "    <tr>\n",
       "      <th>8</th>\n",
       "      <td>0.404452</td>\n",
       "      <td>0.595548</td>\n",
       "    </tr>\n",
       "    <tr>\n",
       "      <th>9</th>\n",
       "      <td>0.388049</td>\n",
       "      <td>0.611951</td>\n",
       "    </tr>\n",
       "  </tbody>\n",
       "</table>\n",
       "</div>"
      ],
      "text/plain": [
       "m         0         1\n",
       "t                    \n",
       "0  0.480000  0.520000\n",
       "1  0.428382  0.571618\n",
       "2  0.492288  0.507712\n",
       "3  0.446792  0.553208\n",
       "4  0.482455  0.517545\n",
       "5  0.604750  0.395250\n",
       "6  0.567104  0.432896\n",
       "7  0.614419  0.385581\n",
       "8  0.404452  0.595548\n",
       "9  0.388049  0.611951"
      ]
     },
     "execution_count": 18,
     "metadata": {},
     "output_type": "execute_result"
    }
   ],
   "source": [
    "# Evaluate the model probabililties\n",
    "model_probabilities = history.get_model_probabilities()\n",
    "model_probabilities"
   ]
  },
  {
   "cell_type": "code",
   "execution_count": 19,
   "metadata": {},
   "outputs": [
    {
     "data": {
      "text/plain": [
       "<matplotlib.axes._subplots.AxesSubplot at 0x7fa105366390>"
      ]
     },
     "execution_count": 19,
     "metadata": {},
     "output_type": "execute_result"
    },
    {
     "data": {
      "image/png": "[encoded data removed]",
      "text/plain": [
       "<Figure size 432x288 with 1 Axes>"
      ]
     },
     "metadata": {
      "needs_background": "light"
     },
     "output_type": "display_data"
    }
   ],
   "source": [
    "pyabc.visualization.plot_model_probabilities(history)\n"
   ]
  },
  {
   "cell_type": "code",
   "execution_count": null,
   "metadata": {},
   "outputs": [],
   "source": []
  }
 ],
 "metadata": {
  "kernelspec": {
   "display_name": "Python 3",
   "language": "python",
   "name": "python3"
  },
  "language_info": {
   "codemirror_mode": {
    "name": "ipython",
    "version": 3
   },
   "file_extension": ".py",
   "mimetype": "text/x-python",
   "name": "python",
   "nbconvert_exporter": "python",
   "pygments_lexer": "ipython3",
   "version": "3.7.3"
  }
 },
 "nbformat": 4,
 "nbformat_minor": 2
}
